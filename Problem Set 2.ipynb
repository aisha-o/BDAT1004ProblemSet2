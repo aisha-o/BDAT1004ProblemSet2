{
 "cells": [
  {
   "cell_type": "markdown",
   "id": "4ac58c3a",
   "metadata": {},
   "source": [
    "QUESTION 1"
   ]
  },
  {
   "cell_type": "code",
   "execution_count": 1,
   "id": "c8f4e960",
   "metadata": {},
   "outputs": [
    {
     "data": {
      "text/plain": [
       "6"
      ]
     },
     "execution_count": 1,
     "metadata": {},
     "output_type": "execute_result"
    }
   ],
   "source": [
    "a = 0\n",
    "def b():\n",
    "    global a\n",
    "    a = c(a)\n",
    "    return a\n",
    "\n",
    "def c(a):\n",
    "    return a + 2\n",
    "\n",
    "b()\n",
    "b()\n",
    "b()\n",
    "a\n",
    "\n",
    "\n",
    "#When executing the first function of b(), a = 2 (i.e 0 + 2), \n",
    "#the second execution returns a = 4 (i.e 2 + 2), \n",
    "#and the last execution returns a = 6 (i.e 4 + 2)\n"
   ]
  },
  {
   "cell_type": "markdown",
   "id": "b05e065c",
   "metadata": {},
   "source": [
    "QUESTION 2"
   ]
  },
  {
   "cell_type": "code",
   "execution_count": 2,
   "id": "3e256ac7",
   "metadata": {},
   "outputs": [
    {
     "name": "stdout",
     "output_type": "stream",
     "text": [
      "62\n",
      "\n",
      "File Programing.txt not found.\n",
      "\n"
     ]
    }
   ],
   "source": [
    "def fileLength(filename):\n",
    "    try:\n",
    "        with open(filename,\"r\") as f:\n",
    "            print(len(f.readlines()))\n",
    "            f.close()\n",
    "    except FileNotFoundError:\n",
    "        print(f\"File {filename} not found.\")  \n",
    "        \n",
    "fileLength(\"Programming.txt\")\n",
    "print()\n",
    "\n",
    "fileLength(\"Programing.txt\")\n",
    "print()"
   ]
  },
  {
   "cell_type": "markdown",
   "id": "d7db2128",
   "metadata": {},
   "source": [
    "QUESTION 3"
   ]
  },
  {
   "cell_type": "code",
   "execution_count": 3,
   "id": "ccd20d16",
   "metadata": {},
   "outputs": [
    {
     "data": {
      "text/plain": [
       "['doll', 'firetruck', 'kitten']"
      ]
     },
     "execution_count": 3,
     "metadata": {},
     "output_type": "execute_result"
    }
   ],
   "source": [
    "#create class\n",
    "class Marsupial:\n",
    "    \n",
    "#using init method\n",
    "    def __init__(self):\n",
    "        \n",
    "#creating list\n",
    "        self.pouch = []\n",
    "    \n",
    "#to collate items to list\n",
    "    def put_in_pouch(self, item):            \n",
    "        self.pouch.append(item)\n",
    "        \n",
    "#to display/ print content of list\n",
    "    def pouch_contents(self):                \n",
    "        return self.pouch\n",
    "\n",
    "m = Marsupial()\n",
    "m.put_in_pouch('doll')\n",
    "m.put_in_pouch('firetruck')\n",
    "m.put_in_pouch('kitten')\n",
    "m.pouch_contents()"
   ]
  },
  {
   "cell_type": "code",
   "execution_count": 4,
   "id": "8393fdf4",
   "metadata": {},
   "outputs": [
    {
     "name": "stdout",
     "output_type": "stream",
     "text": [
      "I am a Kangaroo located at coordinates (0,0)\n"
     ]
    }
   ],
   "source": [
    "#create subclass from class Marsupial\n",
    "class Kangaroo(Marsupial):\n",
    "#also using the init method\n",
    "    def __init__(self, x, y):                                     \n",
    "        Marsupial.__init__(self)                \n",
    "        self.x = x                                \n",
    "        self.y = y\n",
    "        \n",
    "# creating a jump method                              \n",
    "    def jump(self, dx, dy):                         \n",
    "        self.x+=dx\n",
    "        self.x+=dy\n",
    "        \n",
    "# returning output    \n",
    "    def __str__(self):                           \n",
    "        return \"I am a Kangaroo located at coordinates (\"+str(self.x)+\",\"+str(self.y)+\")\"\n",
    "\n",
    "k = Kangaroo(0,0)\n",
    "print(k)"
   ]
  },
  {
   "cell_type": "code",
   "execution_count": 5,
   "id": "00ac33bb",
   "metadata": {},
   "outputs": [
    {
     "data": {
      "text/plain": [
       "['doll', 'firetruck', 'kitten']"
      ]
     },
     "execution_count": 5,
     "metadata": {},
     "output_type": "execute_result"
    }
   ],
   "source": [
    "k.put_in_pouch('doll')\n",
    "k.put_in_pouch('firetruck')\n",
    "k.put_in_pouch('kitten')\n",
    "k.pouch_contents()"
   ]
  },
  {
   "cell_type": "code",
   "execution_count": 6,
   "id": "98e53ee5",
   "metadata": {},
   "outputs": [
    {
     "name": "stdout",
     "output_type": "stream",
     "text": [
      "I am a Kangaroo located at coordinates (3,0)\n"
     ]
    }
   ],
   "source": [
    "k.jump(1,0)\n",
    "k.jump(1,0)\n",
    "k.jump(1,0)\n",
    "print(k)"
   ]
  },
  {
   "cell_type": "markdown",
   "id": "5002bb9a",
   "metadata": {},
   "source": [
    "QUESTION 4"
   ]
  },
  {
   "cell_type": "code",
   "execution_count": null,
   "id": "88bb2a1b",
   "metadata": {},
   "outputs": [],
   "source": [
    "# defining collatz function\n",
    "def collatz(x):                   \n",
    "\n",
    "    if x != 1:\n",
    "        \n",
    "#function for even numbers\n",
    "        if x%2 == 0:               \n",
    "            print(int(x))         \n",
    "            collatz(x/2)       \n",
    "        \n",
    "        else:\n",
    "#function for odd numbers\n",
    "            print(int(x))         \n",
    "            collatz(3*x+1)          \n",
    "  \n",
    "    else:\n",
    "        print(int(x)); "
   ]
  },
  {
   "cell_type": "code",
   "execution_count": 13,
   "id": "76bb66dd",
   "metadata": {},
   "outputs": [
    {
     "name": "stdout",
     "output_type": "stream",
     "text": [
      "1\n"
     ]
    }
   ],
   "source": [
    "collatz(1)"
   ]
  },
  {
   "cell_type": "code",
   "execution_count": 14,
   "id": "54f82bfb",
   "metadata": {},
   "outputs": [
    {
     "name": "stdout",
     "output_type": "stream",
     "text": [
      "10\n",
      "5\n",
      "16\n",
      "8\n",
      "4\n",
      "2\n",
      "1\n"
     ]
    }
   ],
   "source": [
    "collatz(10)"
   ]
  },
  {
   "cell_type": "markdown",
   "id": "7c131a90",
   "metadata": {},
   "source": [
    "QUESTION 5"
   ]
  },
  {
   "cell_type": "code",
   "execution_count": 16,
   "id": "4410744b",
   "metadata": {},
   "outputs": [],
   "source": [
    "# defining binary function\n",
    "def binary(n):\n",
    "    \n",
    "#validating input and returning binary value\n",
    "    if n > 1:\n",
    "        binary(n//2)\n",
    "    print(n % 2, end=\"\")\n",
    "    "
   ]
  },
  {
   "cell_type": "code",
   "execution_count": 17,
   "id": "ab50b564",
   "metadata": {},
   "outputs": [
    {
     "name": "stdout",
     "output_type": "stream",
     "text": [
      "0\n",
      "1\n",
      "11\n",
      "1001\n"
     ]
    }
   ],
   "source": [
    "binary(0)\n",
    "print()\n",
    "\n",
    "binary(1)\n",
    "print()\n",
    "\n",
    "binary(3)\n",
    "print()\n",
    "\n",
    "binary(9)\n",
    "print()"
   ]
  },
  {
   "cell_type": "markdown",
   "id": "101c5cfc",
   "metadata": {},
   "source": [
    "QUETSION 6"
   ]
  },
  {
   "cell_type": "code",
   "execution_count": 18,
   "id": "7ba89cc2",
   "metadata": {},
   "outputs": [],
   "source": [
    "# importing module\n",
    "from html.parser import HTMLParser\n",
    "\n",
    "# create class of HeadingParser\n",
    "class HeadingParser(HTMLParser):\n",
    "    \n",
    "#using init method\n",
    "    def __init__(self):                                                 \n",
    "        HTMLParser.__init__(self)                           \n",
    "        self.head = 0                                                          \n",
    "        self.intend = \"\"\n",
    "        \n",
    "#defining starttag method\n",
    "    def handle_starttag(self, tag, attrs):              \n",
    "        if tag[:-1] == 'h':\n",
    "            self.head = 'type'\n",
    "            \n",
    "#defining data handling method\n",
    "    def handle_data(self, data):                             \n",
    "        if self.head == \"type\":\n",
    "            print(self.intend+ data)                         \n",
    "            self.intend+= \"    \"\n",
    "            self.head=0 "
   ]
  },
  {
   "cell_type": "code",
   "execution_count": 19,
   "id": "fb1c5316",
   "metadata": {},
   "outputs": [
    {
     "name": "stdout",
     "output_type": "stream",
     "text": [
      "W3C Mission\n",
      "    Principles\n"
     ]
    }
   ],
   "source": [
    "infile = open('w3c.html')\n",
    "content = infile.read()\n",
    "infile.close()\n",
    "\n",
    "hp = HeadingParser()\n",
    "hp.feed(content)"
   ]
  },
  {
   "cell_type": "markdown",
   "id": "350f7ede",
   "metadata": {},
   "source": [
    "QUESTION 8"
   ]
  },
  {
   "cell_type": "code",
   "execution_count": 21,
   "id": "d4dd5229",
   "metadata": {},
   "outputs": [],
   "source": [
    "#importing the module\n",
    "import sqlite3\n",
    "\n",
    "#creating connection with the database\n",
    "conn = sqlite3.connect('database')\n",
    "\n",
    "#creating cursor object\n",
    "curr = conn.cursor()\n",
    "\n",
    "#creating table using SQL command and adding values to the table\n",
    "curr.execute(\"CREATE TABLE database_table_ (City text, Country text, Season text, Temperature dec, Rainfall dec)\")\n",
    "curr.execute(\"INSERT INTO database_table_ VALUES ('Mumbai', 'India', 'Winter', 24.8, 5.9)\")\n",
    "curr.execute(\"INSERT INTO database_table_ VALUES ('Mumbai', 'India', 'Spring', 28.4, 16.2)\")\n",
    "curr.execute(\"INSERT INTO database_table_ VALUES ('Mumbai', 'India', 'Summer', 27.9, 1549.4)\")\n",
    "curr.execute(\"INSERT INTO database_table_ VALUES ('Mumbai', 'India', 'Fall', 27.6, 346.0)\")\n",
    "curr.execute(\"INSERT INTO database_table_ VALUES ('London', 'United Kingdom', 'Winter', 4.2, 207.7)\")\n",
    "curr.execute(\"INSERT INTO database_table_ VALUES ('London', 'United Kingdom', 'Spring', 8.3, 169.6)\")\n",
    "curr.execute(\"INSERT INTO database_table_ VALUES ('London', 'United Kingdom', 'Summer', 15.7, 157.0)\")\n",
    "curr.execute(\"INSERT INTO database_table_ VALUES ('London', 'United Kingdom', 'Fall', 10.4, 218.5)\")\n",
    "curr.execute(\"INSERT INTO database_table_ VALUES ('Cairo', 'Egypt', 'Winter', 13.6, 16.5)\")\n",
    "curr.execute(\"INSERT INTO database_table_ VALUES ('Cairo', 'Egypt', 'Spring', 20.7, 6.5)\")\n",
    "curr.execute(\"INSERT INTO database_table_ VALUES ('Cairo', 'Egypt', 'Summer', 27.7, 0.1)\")\n",
    "curr.execute(\"INSERT INTO database_table_ VALUES ('Cairo', 'Egypt', 'Fall', 22.2, 4.5)\")\n",
    "\n",
    "# committing modifications\n",
    "conn.commit()\n",
    "\n",
    "# closing connection\n",
    "conn.close()\n"
   ]
  },
  {
   "cell_type": "code",
   "execution_count": 22,
   "id": "29a5689c",
   "metadata": {},
   "outputs": [
    {
     "name": "stdout",
     "output_type": "stream",
     "text": [
      "(24.8,)\n",
      "(28.4,)\n",
      "(27.9,)\n",
      "(27.6,)\n",
      "(4.2,)\n",
      "(8.3,)\n",
      "(15.7,)\n",
      "(10.4,)\n",
      "(13.6,)\n",
      "(20.7,)\n",
      "(27.7,)\n",
      "(22.2,)\n",
      "\n",
      "('Mumbai',)\n",
      "('London',)\n",
      "('Cairo',)\n",
      "\n",
      "('Mumbai', 'India', 'Winter', 24.8, 5.9)\n",
      "('Mumbai', 'India', 'Spring', 28.4, 16.2)\n",
      "('Mumbai', 'India', 'Summer', 27.9, 1549.4)\n",
      "('Mumbai', 'India', 'Fall', 27.6, 346)\n",
      "\n",
      "('Mumbai', 'India', 'Fall', 27.6, 346)\n",
      "('London', 'United Kingdom', 'Fall', 10.4, 218.5)\n",
      "('Cairo', 'Egypt', 'Fall', 22.2, 4.5)\n",
      "\n",
      "('Mumbai', 'India', 'Fall')\n",
      "('London', 'United Kingdom', 'Winter')\n",
      "('London', 'United Kingdom', 'Fall')\n",
      "\n",
      "('Mumbai', 'India')\n",
      "('Cairo', 'Egypt')\n",
      "\n",
      "[(27.6,)]\n",
      "\n",
      "(569.0, 'Fall')\n",
      "(192.29999999999998, 'Spring')\n",
      "(1706.5, 'Summer')\n",
      "(230.1, 'Winter')\n",
      "\n"
     ]
    }
   ],
   "source": [
    "# importing the module\n",
    "import sqlite3\n",
    "\n",
    "# creating connection with the database\n",
    "conn = sqlite3.connect('database')\n",
    "\n",
    "# creating cursor object\n",
    "curr = conn.cursor()\n",
    "\n",
    "# (a) All the temperature data\n",
    "curr.execute('SELECT Temperature FROM database_table_ ')\n",
    "for data in curr:\n",
    "    print(data)\n",
    "print()\n",
    "\n",
    "# (b) All the cities but without repetition   \n",
    "curr.execute('SELECT DISTINCT City FROM database_table_ ')\n",
    "for data in curr:\n",
    "    print(data)\n",
    "print()\n",
    "\n",
    "# (c) All the records for India\n",
    "curr.execute('SELECT * FROM database_table_ where Country = \"India\"')\n",
    "for data in curr:\n",
    "    print(data)\n",
    "print()\n",
    "    \n",
    "# (d) All the Fall record\n",
    "curr.execute('SELECT * FROM database_table_ where Season = \"Fall\"')\n",
    "for data in curr:\n",
    "    print(data)\n",
    "print()\n",
    "    \n",
    "# (e) The city, country, and season for which the average rainfall is between 200 and 400 millimeters   \n",
    "curr.execute('SELECT City, Country, Season FROM database_table_ where (rainfall > 200) AND (rainfall < 400)')\n",
    "for data in curr:\n",
    "    print(data)\n",
    "print()\n",
    "    \n",
    "# (f) The city and country for which the average Fall temperature is above 20 degrees, in increasing temperature order.\n",
    "curr.execute('SELECT City, Country FROM database_table_ where (Season = \"Fall\") AND (temperature > 20) ORDER BY Temperature DESC')\n",
    "for data in curr:\n",
    "    print(data)\n",
    "print()\n",
    "     \n",
    "# (g) The total annual rainfall for Cairo  \n",
    "curr.execute('SELECT SUM(Rainfall) FROM database_table_ where City = \"Cairo\"')\n",
    "Annual_rainfall=curr.fetchall()\n",
    "print(Annual_rainfall)\n",
    "print()\n",
    "\n",
    "# (h) The total rainfall for each season\n",
    "curr.execute('SELECT SUM(Rainfall), Season FROM database_table_ GROUP BY Season')\n",
    "for data in curr:\n",
    "    print(data)\n",
    "print()"
   ]
  },
  {
   "cell_type": "markdown",
   "id": "8608ebe4",
   "metadata": {},
   "source": [
    "QUESTION 9"
   ]
  },
  {
   "cell_type": "code",
   "execution_count": 23,
   "id": "41a95343",
   "metadata": {},
   "outputs": [],
   "source": [
    "#Creating list (words)\n",
    "words = ['The', 'quick', 'brown','fox','jumps','over','the','lazy','dog']"
   ]
  },
  {
   "cell_type": "code",
   "execution_count": 24,
   "id": "945b590c",
   "metadata": {},
   "outputs": [
    {
     "data": {
      "text/plain": [
       "['THE', 'QUICK', 'BROWN', 'FOX', 'JUMPS', 'OVER', 'THE', 'LAZY', 'DOG']"
      ]
     },
     "execution_count": 24,
     "metadata": {},
     "output_type": "execute_result"
    }
   ],
   "source": [
    "# (a) generating all words in uppercase\n",
    "[w.upper() for w in words]"
   ]
  },
  {
   "cell_type": "code",
   "execution_count": 25,
   "id": "578c4460",
   "metadata": {},
   "outputs": [
    {
     "data": {
      "text/plain": [
       "['the', 'quick', 'brown', 'fox', 'jumps', 'over', 'the', 'lazy', 'dog']"
      ]
     },
     "execution_count": 25,
     "metadata": {},
     "output_type": "execute_result"
    }
   ],
   "source": [
    "# (b) generating all words in lowercase\n",
    "[w.lower() for w in words]"
   ]
  },
  {
   "cell_type": "code",
   "execution_count": 26,
   "id": "a9509a02",
   "metadata": {},
   "outputs": [
    {
     "data": {
      "text/plain": [
       "[3, 5, 5, 3, 5, 4, 3, 4, 3]"
      ]
     },
     "execution_count": 26,
     "metadata": {},
     "output_type": "execute_result"
    }
   ],
   "source": [
    "# (c) generating list of length of each word\n",
    "[len(w) for w in words]"
   ]
  },
  {
   "cell_type": "code",
   "execution_count": 27,
   "id": "04e3fadc",
   "metadata": {},
   "outputs": [
    {
     "data": {
      "text/plain": [
       "[['THE', 'the', 3],\n",
       " ['QUICK', 'quick', 5],\n",
       " ['BROWN', 'brown', 5],\n",
       " ['FOX', 'fox', 3],\n",
       " ['JUMPS', 'jumps', 5],\n",
       " ['OVER', 'over', 4],\n",
       " ['THE', 'the', 3],\n",
       " ['LAZY', 'lazy', 4],\n",
       " ['DOG', 'dog', 3]]"
      ]
     },
     "execution_count": 27,
     "metadata": {},
     "output_type": "execute_result"
    }
   ],
   "source": [
    "# (d) generating list of upper case, lowercase and length of each word\n",
    "[[w.upper(), w.lower(), len(w)] for w in words]"
   ]
  },
  {
   "cell_type": "code",
   "execution_count": 28,
   "id": "67025959",
   "metadata": {},
   "outputs": [
    {
     "data": {
      "text/plain": [
       "['quick', 'brown', 'jumps', 'over', 'lazy']"
      ]
     },
     "execution_count": 28,
     "metadata": {},
     "output_type": "execute_result"
    }
   ],
   "source": [
    "# (e) generating list of words with length of 4 or more characters\n",
    "[w for w in words if len(w) >=4]"
   ]
  }
 ],
 "metadata": {
  "kernelspec": {
   "display_name": "Python 3 (ipykernel)",
   "language": "python",
   "name": "python3"
  },
  "language_info": {
   "codemirror_mode": {
    "name": "ipython",
    "version": 3
   },
   "file_extension": ".py",
   "mimetype": "text/x-python",
   "name": "python",
   "nbconvert_exporter": "python",
   "pygments_lexer": "ipython3",
   "version": "3.9.12"
  }
 },
 "nbformat": 4,
 "nbformat_minor": 5
}
